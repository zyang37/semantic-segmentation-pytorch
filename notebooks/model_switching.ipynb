{
 "cells": [
  {
   "cell_type": "code",
   "execution_count": null,
   "id": "swiss-copyright",
   "metadata": {},
   "outputs": [],
   "source": [
    "import os\n",
    "import yaml"
   ]
  },
  {
   "cell_type": "code",
   "execution_count": null,
   "id": "national-spider",
   "metadata": {},
   "outputs": [],
   "source": [
    "with open(\"config/ade20k-hrnetv2.yaml\") as file:\n",
    "    data = yaml.load(file, Loader=yaml.FullLoader)"
   ]
  },
  {
   "cell_type": "code",
   "execution_count": null,
   "id": "loved-helicopter",
   "metadata": {},
   "outputs": [],
   "source": [
    "data"
   ]
  },
  {
   "cell_type": "code",
   "execution_count": null,
   "id": "inner-tuner",
   "metadata": {},
   "outputs": [],
   "source": [
    "encoder_path = None\n",
    "decoder_path = None\n",
    "\n",
    "for p in os.listdir(data['DIR']):\n",
    "    if \"encoder\" in p.lower():\n",
    "        encoder_path = \"{}/{}\".format(data['DIR'], p)\n",
    "        continue\n",
    "    if \"decoder\" in p.lower():\n",
    "        decoder_path = \"{}/{}\".format(data['DIR'], p)\n",
    "        continue\n",
    "        \n",
    "if encoder_path==None or decoder_path==None:\n",
    "    raise(\"model weights not found\")"
   ]
  },
  {
   "cell_type": "code",
   "execution_count": null,
   "id": "legal-purple",
   "metadata": {},
   "outputs": [],
   "source": [
    "def parse_model_config(path):\n",
    "    with open(path) as file:\n",
    "        data = yaml.load(file, Loader=yaml.FullLoader)\n",
    "    \n",
    "    encoder_path = None\n",
    "    decoder_path = None\n",
    "\n",
    "    for p in os.listdir(data['DIR']):\n",
    "        if \"encoder\" in p.lower():\n",
    "            encoder_path = \"{}/{}\".format(data['DIR'], p)\n",
    "            continue\n",
    "        if \"decoder\" in p.lower():\n",
    "            decoder_path = \"{}/{}\".format(data['DIR'], p)\n",
    "            continue\n",
    "\n",
    "    if encoder_path==None or decoder_path==None:\n",
    "        raise(\"model weights not found\")\n",
    "        \n",
    "    return data, encoder_path, decoder_path"
   ]
  },
  {
   "cell_type": "code",
   "execution_count": null,
   "id": "acting-momentum",
   "metadata": {},
   "outputs": [],
   "source": [
    "data, encoder_path, decoder_path = parse_model_config(\"config/ade20k-hrnetv2.yaml\")"
   ]
  },
  {
   "cell_type": "code",
   "execution_count": null,
   "id": "innocent-behavior",
   "metadata": {},
   "outputs": [],
   "source": [
    "data"
   ]
  },
  {
   "cell_type": "code",
   "execution_count": null,
   "id": "composed-colonial",
   "metadata": {},
   "outputs": [],
   "source": [
    "encoder_path"
   ]
  },
  {
   "cell_type": "code",
   "execution_count": null,
   "id": "lyric-parent",
   "metadata": {},
   "outputs": [],
   "source": [
    "decoder_path"
   ]
  },
  {
   "cell_type": "code",
   "execution_count": null,
   "id": "vulnerable-example",
   "metadata": {},
   "outputs": [],
   "source": []
  },
  {
   "cell_type": "code",
   "execution_count": null,
   "id": "improved-expression",
   "metadata": {},
   "outputs": [],
   "source": [
    "# Network Builders\n",
    "net_encoder = ModelBuilder.build_encoder(\n",
    "    arch=data[\"MODEL\"]['arch_encoder'],\n",
    "    fc_dim=data['MODEL']['fc_dim'],\n",
    "    weights=encoder_path)\n",
    "net_decoder = ModelBuilder.build_decoder(\n",
    "    arch=data[\"MODEL\"]['arch_decoder'],\n",
    "    fc_dim=data['MODEL']['fc_dim'],\n",
    "    num_class=data['DATASET']['num_class'],\n",
    "    weights=decoder_path,\n",
    "    use_softmax=True)"
   ]
  },
  {
   "cell_type": "code",
   "execution_count": null,
   "id": "indirect-estonia",
   "metadata": {},
   "outputs": [],
   "source": []
  }
 ],
 "metadata": {
  "kernelspec": {
   "display_name": "Python 3",
   "language": "python",
   "name": "python3"
  },
  "language_info": {
   "codemirror_mode": {
    "name": "ipython",
    "version": 3
   },
   "file_extension": ".py",
   "mimetype": "text/x-python",
   "name": "python",
   "nbconvert_exporter": "python",
   "pygments_lexer": "ipython3",
   "version": "3.7.9"
  }
 },
 "nbformat": 4,
 "nbformat_minor": 5
}
